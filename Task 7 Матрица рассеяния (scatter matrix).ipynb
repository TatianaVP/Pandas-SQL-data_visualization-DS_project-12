{
 "cells": [
  {
   "cell_type": "markdown",
   "id": "cd544b07",
   "metadata": {},
   "source": [
    "## Task 7: Матрица рассеяния (scatter matrix)"
   ]
  },
  {
   "cell_type": "code",
   "execution_count": 1,
   "id": "f6b2750f",
   "metadata": {},
   "outputs": [],
   "source": [
    "import pandas as pd\n",
    "import sqlite3"
   ]
  },
  {
   "cell_type": "code",
   "execution_count": 2,
   "id": "32d9aefc",
   "metadata": {},
   "outputs": [],
   "source": [
    "con = sqlite3.connect('../data/checking-logs.sqlite')"
   ]
  },
  {
   "cell_type": "markdown",
   "id": "16c7587d",
   "metadata": {},
   "source": [
    "### 1. Создайте датафрейм, в котором для каждого пользователя тестовой группы имеется среднее значение дельты, количество просмотров страниц и количество коммитов.\n",
    "### 2.Не учитывайте лабораторное задание project1 при расчете среднего значения дельты и количества коммитов.\n",
    "### 3. Возьмите количество коммитов из таблицы checker.\n",
    "### 4.Используйте фильтр status = 'ready' для коммитов."
   ]
  },
  {
   "cell_type": "code",
   "execution_count": 3,
   "id": "fae9b92c",
   "metadata": {},
   "outputs": [],
   "source": [
    "df = pd.read_sql(\"\"\"SELECT\n",
    "\tt1.uid,\n",
    "\tdelta as avg_diff,\n",
    "\tviewscount as pageviews,\n",
    "\tnum_commits\n",
    "FROM\n",
    "(select\n",
    "\tuid,\n",
    "\tcount() as num_commits\n",
    "from \n",
    "\tchecker\n",
    "where\n",
    "\tstatus = 'ready' and labname <> 'project1' and checker.uid like 'user_%'\n",
    "group by\n",
    "\tuid) as t1\n",
    "JOIN\n",
    "(SELECT \n",
    "\tuid,\n",
    "\tCOUNT() as viewscount\n",
    "FROM\n",
    "\tpageviews\n",
    "GROUP bY \n",
    "\tuid) as t2\n",
    "ON\n",
    "\tt1.uid = t2.uid\n",
    "JOIN\n",
    "(SELECT\n",
    "\tuid,\n",
    "\tAVG( (strftime ('%s', first_commit) - deadlines) /3600) as delta\n",
    "FROM\n",
    "(SELECT\n",
    "\tMIN(checker.timestamp) as first_commit,\n",
    "\tchecker.uid,\n",
    "\tchecker.labname\n",
    "FROM \n",
    "\tchecker\n",
    "JOIN \n",
    "\tpageviews \n",
    "ON \n",
    "\tpageviews.uid = checker.uid\n",
    "WHERE\n",
    "\tstatus = 'ready' AND numTrials = 1 AND labname!='project1' AND checker.uid LIKE 'user_%'\n",
    "GROUP by \n",
    "\tchecker.uid, labname) as t1\n",
    "JOIN \n",
    "\tdeadlines \n",
    "ON \n",
    "\tlabname=labs\n",
    "GROUP BY \n",
    "\tuid) as t3\n",
    "ON \n",
    "\tt1.uid=t3.uid\n",
    "\"\"\", con)"
   ]
  },
  {
   "cell_type": "code",
   "execution_count": 4,
   "id": "5f584fc4",
   "metadata": {},
   "outputs": [
    {
     "data": {
      "text/html": [
       "<div>\n",
       "<style scoped>\n",
       "    .dataframe tbody tr th:only-of-type {\n",
       "        vertical-align: middle;\n",
       "    }\n",
       "\n",
       "    .dataframe tbody tr th {\n",
       "        vertical-align: top;\n",
       "    }\n",
       "\n",
       "    .dataframe thead th {\n",
       "        text-align: right;\n",
       "    }\n",
       "</style>\n",
       "<table border=\"1\" class=\"dataframe\">\n",
       "  <thead>\n",
       "    <tr style=\"text-align: right;\">\n",
       "      <th></th>\n",
       "      <th>uid</th>\n",
       "      <th>avg_diff</th>\n",
       "      <th>pageviews</th>\n",
       "      <th>num_commits</th>\n",
       "    </tr>\n",
       "  </thead>\n",
       "  <tbody>\n",
       "    <tr>\n",
       "      <th>0</th>\n",
       "      <td>user_1</td>\n",
       "      <td>-64.400000</td>\n",
       "      <td>28</td>\n",
       "      <td>35</td>\n",
       "    </tr>\n",
       "    <tr>\n",
       "      <th>1</th>\n",
       "      <td>user_10</td>\n",
       "      <td>-74.800000</td>\n",
       "      <td>89</td>\n",
       "      <td>13</td>\n",
       "    </tr>\n",
       "    <tr>\n",
       "      <th>2</th>\n",
       "      <td>user_14</td>\n",
       "      <td>-159.000000</td>\n",
       "      <td>143</td>\n",
       "      <td>33</td>\n",
       "    </tr>\n",
       "    <tr>\n",
       "      <th>3</th>\n",
       "      <td>user_17</td>\n",
       "      <td>-61.600000</td>\n",
       "      <td>47</td>\n",
       "      <td>29</td>\n",
       "    </tr>\n",
       "    <tr>\n",
       "      <th>4</th>\n",
       "      <td>user_18</td>\n",
       "      <td>-5.666667</td>\n",
       "      <td>3</td>\n",
       "      <td>4</td>\n",
       "    </tr>\n",
       "    <tr>\n",
       "      <th>5</th>\n",
       "      <td>user_19</td>\n",
       "      <td>-98.750000</td>\n",
       "      <td>16</td>\n",
       "      <td>62</td>\n",
       "    </tr>\n",
       "    <tr>\n",
       "      <th>6</th>\n",
       "      <td>user_21</td>\n",
       "      <td>-95.500000</td>\n",
       "      <td>10</td>\n",
       "      <td>35</td>\n",
       "    </tr>\n",
       "    <tr>\n",
       "      <th>7</th>\n",
       "      <td>user_25</td>\n",
       "      <td>-92.600000</td>\n",
       "      <td>179</td>\n",
       "      <td>43</td>\n",
       "    </tr>\n",
       "    <tr>\n",
       "      <th>8</th>\n",
       "      <td>user_28</td>\n",
       "      <td>-86.400000</td>\n",
       "      <td>149</td>\n",
       "      <td>33</td>\n",
       "    </tr>\n",
       "    <tr>\n",
       "      <th>9</th>\n",
       "      <td>user_3</td>\n",
       "      <td>-105.400000</td>\n",
       "      <td>317</td>\n",
       "      <td>13</td>\n",
       "    </tr>\n",
       "    <tr>\n",
       "      <th>10</th>\n",
       "      <td>user_30</td>\n",
       "      <td>-145.250000</td>\n",
       "      <td>3</td>\n",
       "      <td>20</td>\n",
       "    </tr>\n",
       "  </tbody>\n",
       "</table>\n",
       "</div>"
      ],
      "text/plain": [
       "        uid    avg_diff  pageviews  num_commits\n",
       "0    user_1  -64.400000         28           35\n",
       "1   user_10  -74.800000         89           13\n",
       "2   user_14 -159.000000        143           33\n",
       "3   user_17  -61.600000         47           29\n",
       "4   user_18   -5.666667          3            4\n",
       "5   user_19  -98.750000         16           62\n",
       "6   user_21  -95.500000         10           35\n",
       "7   user_25  -92.600000        179           43\n",
       "8   user_28  -86.400000        149           33\n",
       "9    user_3 -105.400000        317           13\n",
       "10  user_30 -145.250000          3           20"
      ]
     },
     "execution_count": 4,
     "metadata": {},
     "output_type": "execute_result"
    }
   ],
   "source": [
    "df"
   ]
  },
  {
   "cell_type": "markdown",
   "id": "cce0a20d",
   "metadata": {},
   "source": [
    "### 5. Размер figsize остается прежним; размер шрифта и цветовую палитру можно выбрать по своему усмотрению.\n",
    "### 6. Размер точек — 200.\n",
    "### 7. Ширина линий на графиках, расположенных по главной диагонали (kde) — 3."
   ]
  },
  {
   "cell_type": "code",
   "execution_count": 5,
   "id": "e0171f96",
   "metadata": {},
   "outputs": [
    {
     "data": {
      "text/plain": [
       "array([[<AxesSubplot:xlabel='avg_diff', ylabel='avg_diff'>,\n",
       "        <AxesSubplot:xlabel='pageviews', ylabel='avg_diff'>,\n",
       "        <AxesSubplot:xlabel='num_commits', ylabel='avg_diff'>],\n",
       "       [<AxesSubplot:xlabel='avg_diff', ylabel='pageviews'>,\n",
       "        <AxesSubplot:xlabel='pageviews', ylabel='pageviews'>,\n",
       "        <AxesSubplot:xlabel='num_commits', ylabel='pageviews'>],\n",
       "       [<AxesSubplot:xlabel='avg_diff', ylabel='num_commits'>,\n",
       "        <AxesSubplot:xlabel='pageviews', ylabel='num_commits'>,\n",
       "        <AxesSubplot:xlabel='num_commits', ylabel='num_commits'>]],\n",
       "      dtype=object)"
      ]
     },
     "execution_count": 5,
     "metadata": {},
     "output_type": "execute_result"
    },
    {
     "data": {
      "image/png": "[encoded data removed]",
      "text/plain": [
       "<Figure size 1080x576 with 9 Axes>"
      ]
     },
     "metadata": {
      "needs_background": "light"
     },
     "output_type": "display_data"
    }
   ],
   "source": [
    "pd.plotting.scatter_matrix(df, figsize=(15, 8), diagonal='kde', density_kwds={'linewidth': 3}, s=200, color='red')"
   ]
  },
  {
   "cell_type": "markdown",
   "id": "ee2636cc",
   "metadata": {},
   "source": [
    "### 8. В конце Jupyter Notebook создайте markdown-ячейку и вставьте в нее следующие вопросы.\n",
    "- «Верно ли, что если у пользователя меньше просмотров страницы, то он, скорее всего, имеет меньшее число коммитов?». Ответ: да или нет."
   ]
  },
  {
   "cell_type": "markdown",
   "id": "fe9780d3",
   "metadata": {},
   "source": [
    "Ответ: нет"
   ]
  },
  {
   "cell_type": "markdown",
   "id": "03d3da33",
   "metadata": {},
   "source": [
    "- «Верно ли, что если у пользователя меньше просмотров страницы, то, скорее всего, у него будет небольшое среднее значение дельты (разница между датой первого коммита и сроком сдачи лабораторного задания)?». Ответ: да или нет."
   ]
  },
  {
   "cell_type": "markdown",
   "id": "e144a584",
   "metadata": {},
   "source": [
    "Ответ: нет"
   ]
  },
  {
   "cell_type": "markdown",
   "id": "5bf54629",
   "metadata": {},
   "source": [
    "- «Верно ли, что существует много пользователей с небольшим количеством коммитов и мало пользователей с большим количеством коммитов?». Ответ: да или нет."
   ]
  },
  {
   "cell_type": "markdown",
   "id": "1a9748e2",
   "metadata": {},
   "source": [
    "Ответ: да"
   ]
  },
  {
   "cell_type": "markdown",
   "id": "8e6438fb",
   "metadata": {},
   "source": [
    "- «Верно ли, что существует много пользователей с небольшим средним значением дельты и мало пользователей с большим средним значением дельты?». Ответ: да или нет."
   ]
  },
  {
   "cell_type": "markdown",
   "id": "e7aeed69",
   "metadata": {},
   "source": [
    "Ответ: нет"
   ]
  },
  {
   "cell_type": "code",
   "execution_count": null,
   "id": "c176ab61",
   "metadata": {},
   "outputs": [],
   "source": []
  }
 ],
 "metadata": {
  "kernelspec": {
   "display_name": "Python 3 (ipykernel)",
   "language": "python",
   "name": "python3"
  },
  "language_info": {
   "codemirror_mode": {
    "name": "ipython",
    "version": 3
   },
   "file_extension": ".py",
   "mimetype": "text/x-python",
   "name": "python",
   "nbconvert_exporter": "python",
   "pygments_lexer": "ipython3",
   "version": "3.9.12"
  }
 },
 "nbformat": 4,
 "nbformat_minor": 5
}
